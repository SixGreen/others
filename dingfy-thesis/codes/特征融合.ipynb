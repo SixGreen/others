{
 "cells": [
  {
   "cell_type": "markdown",
   "metadata": {},
   "source": [
    "### 4.5 三维特征融合的文本表述模型"
   ]
  },
  {
   "cell_type": "code",
   "execution_count": 2,
   "metadata": {
    "scrolled": true
   },
   "outputs": [],
   "source": [
    "import pandas as pd\n",
    "\n",
    "# 句子特征\n",
    "df2 = pd.read_excel('../data/句子特征.xlsx', index_col=0)\n",
    "# 会话特征\n",
    "df3 = pd.read_excel('../data/会话特征.xlsx', index_col=0)\n",
    "# 文本标签\n",
    "df4 = pd.read_excel('../data/最终版标注数据0110.xlsx', sheet_name='正反一起')\n",
    "df4 = df4[['标注']]\n",
    "df4 = df4.rename(columns={'标注': 'label'})\n",
    "\n",
    "for conf in ['50.0%', '60.0%', '70.0%', '80.0%', '90.0%']:\n",
    "    df1 = pd.read_csv('../data/词汇特征%s.csv' % conf, index_col=0)\n",
    "    df = pd.concat([df1, df2, df3, df4], axis=1)\n",
    "    df.to_csv('../data/融合特征%s.csv' % conf, index=False)"
   ]
  },
  {
   "cell_type": "code",
   "execution_count": null,
   "metadata": {},
   "outputs": [],
   "source": []
  }
 ],
 "metadata": {
  "kernelspec": {
   "display_name": "Python 3",
   "language": "python",
   "name": "python3"
  },
  "language_info": {
   "codemirror_mode": {
    "name": "ipython",
    "version": 3
   },
   "file_extension": ".py",
   "mimetype": "text/x-python",
   "name": "python",
   "nbconvert_exporter": "python",
   "pygments_lexer": "ipython3",
   "version": "3.7.1"
  }
 },
 "nbformat": 4,
 "nbformat_minor": 2
}
