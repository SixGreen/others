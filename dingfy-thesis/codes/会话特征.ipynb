{
 "cells": [
  {
   "cell_type": "markdown",
   "metadata": {},
   "source": [
    "### 4.3 会话特征（全部文本）"
   ]
  },
  {
   "cell_type": "code",
   "execution_count": 1,
   "metadata": {},
   "outputs": [],
   "source": [
    "import pandas as pd\n",
    "\n",
    "df = pd.read_excel('../data/最终版标注数据0110.xlsx', sheet_name='正反一起')"
   ]
  },
  {
   "cell_type": "code",
   "execution_count": 2,
   "metadata": {},
   "outputs": [],
   "source": [
    "from collections import Counter\n",
    "\n",
    "# 存放会话的轮数\n",
    "dia_cnt = Counter(df['页面网址_编号'])"
   ]
  },
  {
   "cell_type": "code",
   "execution_count": 9,
   "metadata": {},
   "outputs": [],
   "source": [
    "id_flag = None\n",
    "position = 0\n",
    "matrix = list()\n",
    "\n",
    "for idx in range(len(df)):\n",
    "    # 判断新会话是否开启\n",
    "    if df.iloc[idx]['页面网址_编号'] != id_flag:\n",
    "        label = 0\n",
    "        position = 0\n",
    "        id_flag = df.iloc[idx]['页面网址_编号']\n",
    "    else:\n",
    "        label = 0 if df.iloc[idx-1]['标注']=='N' else 1\n",
    "        position += 1\n",
    "    num = dia_cnt[id_flag]\n",
    "    if num == 1: \n",
    "        matrix.append([label, position/num])\n",
    "    else:\n",
    "        matrix.append([label, position/(num-1)])"
   ]
  },
  {
   "cell_type": "code",
   "execution_count": 13,
   "metadata": {},
   "outputs": [],
   "source": [
    "df = pd.DataFrame(matrix, columns=['bemark', 'position'])"
   ]
  },
  {
   "cell_type": "code",
   "execution_count": 14,
   "metadata": {},
   "outputs": [],
   "source": [
    "df.to_excel('../data/会话特征.xlsx')"
   ]
  },
  {
   "cell_type": "code",
   "execution_count": null,
   "metadata": {},
   "outputs": [],
   "source": []
  }
 ],
 "metadata": {
  "kernelspec": {
   "display_name": "Python 3",
   "language": "python",
   "name": "python3"
  },
  "language_info": {
   "codemirror_mode": {
    "name": "ipython",
    "version": 3
   },
   "file_extension": ".py",
   "mimetype": "text/x-python",
   "name": "python",
   "nbconvert_exporter": "python",
   "pygments_lexer": "ipython3",
   "version": "3.7.1"
  }
 },
 "nbformat": 4,
 "nbformat_minor": 2
}
