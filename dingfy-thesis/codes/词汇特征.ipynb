{
 "cells": [
  {
   "cell_type": "markdown",
   "metadata": {},
   "source": [
    "## 4.1 词汇特征（全部文本）\n",
    "### 4.1.1 基本特征\n",
    "\n",
    "步骤2：对标注语料进行词频统计，获得每个特征词在各类别文本中出现的频数，过滤掉在所有类别中频数均小于5的特征词"
   ]
  },
  {
   "cell_type": "code",
   "execution_count": 1,
   "metadata": {},
   "outputs": [],
   "source": [
    "import pandas as pd \n",
    "\n",
    "df = pd.read_excel('../data/最终版标注数据0110.xlsx', sheet_name='正反一起')"
   ]
  },
  {
   "cell_type": "code",
   "execution_count": 2,
   "metadata": {},
   "outputs": [
    {
     "name": "stdout",
     "output_type": "stream",
     "text": [
      "医生信息       74888\n",
      "科室         74888\n",
      "页面网址_编号    74888\n",
      "文本编号       74888\n",
      "身份         74888\n",
      "标注         74888\n",
      "对话内容       74888\n",
      "dtype: int64\n"
     ]
    },
    {
     "data": {
      "text/html": [
       "<div>\n",
       "<style scoped>\n",
       "    .dataframe tbody tr th:only-of-type {\n",
       "        vertical-align: middle;\n",
       "    }\n",
       "\n",
       "    .dataframe tbody tr th {\n",
       "        vertical-align: top;\n",
       "    }\n",
       "\n",
       "    .dataframe thead th {\n",
       "        text-align: right;\n",
       "    }\n",
       "</style>\n",
       "<table border=\"1\" class=\"dataframe\">\n",
       "  <thead>\n",
       "    <tr style=\"text-align: right;\">\n",
       "      <th></th>\n",
       "      <th>医生信息</th>\n",
       "      <th>科室</th>\n",
       "      <th>页面网址_编号</th>\n",
       "      <th>文本编号</th>\n",
       "      <th>身份</th>\n",
       "      <th>标注</th>\n",
       "      <th>对话内容</th>\n",
       "    </tr>\n",
       "  </thead>\n",
       "  <tbody>\n",
       "    <tr>\n",
       "      <th>0</th>\n",
       "      <td>肿瘤及防治科 医师 淄博市中心医院 陈映亮</td>\n",
       "      <td>肿瘤内科</td>\n",
       "      <td>https://www.chunyuyisheng.com/pc/qa/OOOLy5PcCo...</td>\n",
       "      <td>2</td>\n",
       "      <td>陈映亮医生</td>\n",
       "      <td>N</td>\n",
       "      <td>化疗/有没有/定期/复查</td>\n",
       "    </tr>\n",
       "    <tr>\n",
       "      <th>1</th>\n",
       "      <td>肿瘤及防治科 医师 淄博市中心医院 陈映亮</td>\n",
       "      <td>肿瘤内科</td>\n",
       "      <td>https://www.chunyuyisheng.com/pc/qa/OOOLy5PcCo...</td>\n",
       "      <td>3</td>\n",
       "      <td>陈映亮医生</td>\n",
       "      <td>N</td>\n",
       "      <td>检查/单子/发过来</td>\n",
       "    </tr>\n",
       "    <tr>\n",
       "      <th>2</th>\n",
       "      <td>肿瘤及防治科 医师 淄博市中心医院 陈映亮</td>\n",
       "      <td>肿瘤内科</td>\n",
       "      <td>https://www.chunyuyisheng.com/pc/qa/OOOLy5PcCo...</td>\n",
       "      <td>5</td>\n",
       "      <td>陈映亮医生</td>\n",
       "      <td>N</td>\n",
       "      <td>最近/一次/检查</td>\n",
       "    </tr>\n",
       "    <tr>\n",
       "      <th>3</th>\n",
       "      <td>肿瘤及防治科 医师 淄博市中心医院 陈映亮</td>\n",
       "      <td>肿瘤内科</td>\n",
       "      <td>https://www.chunyuyisheng.com/pc/qa/OOOLy5PcCo...</td>\n",
       "      <td>9</td>\n",
       "      <td>陈映亮医生</td>\n",
       "      <td>N</td>\n",
       "      <td>骨髓/穿刺/做/检查</td>\n",
       "    </tr>\n",
       "    <tr>\n",
       "      <th>4</th>\n",
       "      <td>肿瘤及防治科 医师 淄博市中心医院 陈映亮</td>\n",
       "      <td>肿瘤内科</td>\n",
       "      <td>https://www.chunyuyisheng.com/pc/qa/OOOLy5PcCo...</td>\n",
       "      <td>11</td>\n",
       "      <td>陈映亮医生</td>\n",
       "      <td>N</td>\n",
       "      <td>现在/需要/等待/病理</td>\n",
       "    </tr>\n",
       "  </tbody>\n",
       "</table>\n",
       "</div>"
      ],
      "text/plain": [
       "                    医生信息    科室  \\\n",
       "0  肿瘤及防治科 医师 淄博市中心医院 陈映亮  肿瘤内科   \n",
       "1  肿瘤及防治科 医师 淄博市中心医院 陈映亮  肿瘤内科   \n",
       "2  肿瘤及防治科 医师 淄博市中心医院 陈映亮  肿瘤内科   \n",
       "3  肿瘤及防治科 医师 淄博市中心医院 陈映亮  肿瘤内科   \n",
       "4  肿瘤及防治科 医师 淄博市中心医院 陈映亮  肿瘤内科   \n",
       "\n",
       "                                             页面网址_编号  文本编号     身份 标注  \\\n",
       "0  https://www.chunyuyisheng.com/pc/qa/OOOLy5PcCo...     2  陈映亮医生  N   \n",
       "1  https://www.chunyuyisheng.com/pc/qa/OOOLy5PcCo...     3  陈映亮医生  N   \n",
       "2  https://www.chunyuyisheng.com/pc/qa/OOOLy5PcCo...     5  陈映亮医生  N   \n",
       "3  https://www.chunyuyisheng.com/pc/qa/OOOLy5PcCo...     9  陈映亮医生  N   \n",
       "4  https://www.chunyuyisheng.com/pc/qa/OOOLy5PcCo...    11  陈映亮医生  N   \n",
       "\n",
       "           对话内容  \n",
       "0  化疗/有没有/定期/复查  \n",
       "1     检查/单子/发过来  \n",
       "2      最近/一次/检查  \n",
       "3    骨髓/穿刺/做/检查  \n",
       "4   现在/需要/等待/病理  "
      ]
     },
     "execution_count": 2,
     "metadata": {},
     "output_type": "execute_result"
    }
   ],
   "source": [
    "print(df.count())\n",
    "df.head()"
   ]
  },
  {
   "cell_type": "code",
   "execution_count": 2,
   "metadata": {},
   "outputs": [],
   "source": [
    "from collections import Counter\n",
    "\n",
    "Ycounter = Counter()\n",
    "Ncounter = Counter()\n",
    "\n",
    "# 分类统计词频\n",
    "for row in df.itertuples(index=False):\n",
    "    label = getattr(row, '标注')\n",
    "    seglst = str(getattr(row, '对话内容')).split('/')\n",
    "    exec('{}counter += Counter(seglst)'.format(label))"
   ]
  },
  {
   "cell_type": "code",
   "execution_count": 4,
   "metadata": {},
   "outputs": [],
   "source": [
    "df_Ytf = pd.DataFrame.from_dict(Ycounter, orient='index', columns=['TF'])\n",
    "df_Ytf.to_excel('../data/Ytf.xlsx')\n",
    "df_Ntf = pd.DataFrame.from_dict(Ncounter, orient='index', columns=['TF'])\n",
    "df_Ntf.to_excel('../data/Ntf.xlsx')"
   ]
  },
  {
   "cell_type": "code",
   "execution_count": 5,
   "metadata": {},
   "outputs": [],
   "source": [
    "sum_counter_all = Ycounter + Ncounter\n",
    "\n",
    "# 过滤掉在所有类别中频数均小于5的特征词\n",
    "for word in sum_counter_all:\n",
    "    if Ycounter[word]<5 and Ncounter[word]<5:\n",
    "        try:\n",
    "            Ycounter.pop(word)\n",
    "        except KeyError:\n",
    "            pass\n",
    "        try:\n",
    "            Ncounter.pop(word)\n",
    "        except KeyError:\n",
    "            pass"
   ]
  },
  {
   "cell_type": "markdown",
   "metadata": {},
   "source": [
    "步骤3：对每个特征词在各类中的频数进行归一化处理。"
   ]
  },
  {
   "cell_type": "code",
   "execution_count": 6,
   "metadata": {},
   "outputs": [
    {
     "data": {
      "text/plain": [
       "标注\n",
       "N    69920\n",
       "Y     4968\n",
       "dtype: int64"
      ]
     },
     "execution_count": 6,
     "metadata": {},
     "output_type": "execute_result"
    }
   ],
   "source": [
    "group = df.groupby('标注')\n",
    "group.size()"
   ]
  },
  {
   "cell_type": "code",
   "execution_count": 7,
   "metadata": {},
   "outputs": [],
   "source": [
    "numCY = group.size().Y\n",
    "numCN = group.size().N\n",
    "sum_counter_filter = Ycounter + Ncounter\n",
    "\n",
    "norm = dict()\n",
    "for word in sum_counter_filter:\n",
    "    meanY = Ycounter[word] / numCY\n",
    "    meanN = Ncounter[word] / numCN\n",
    "    sum_mean = meanY + meanN\n",
    "    norm[word] = [meanY/sum_mean, meanN/sum_mean]"
   ]
  },
  {
   "cell_type": "markdown",
   "metadata": {},
   "source": [
    "步骤4：对于每个类别文本，按照一定的阈值规则，根据归一化频数从高到低抽取与文本数目相对应的高频特征词"
   ]
  },
  {
   "cell_type": "code",
   "execution_count": 8,
   "metadata": {},
   "outputs": [
    {
     "data": {
      "text/html": [
       "<div>\n",
       "<style scoped>\n",
       "    .dataframe tbody tr th:only-of-type {\n",
       "        vertical-align: middle;\n",
       "    }\n",
       "\n",
       "    .dataframe tbody tr th {\n",
       "        vertical-align: top;\n",
       "    }\n",
       "\n",
       "    .dataframe thead th {\n",
       "        text-align: right;\n",
       "    }\n",
       "</style>\n",
       "<table border=\"1\" class=\"dataframe\">\n",
       "  <thead>\n",
       "    <tr style=\"text-align: right;\">\n",
       "      <th></th>\n",
       "      <th>Y</th>\n",
       "      <th>N</th>\n",
       "    </tr>\n",
       "  </thead>\n",
       "  <tbody>\n",
       "    <tr>\n",
       "      <td>肿瘤</td>\n",
       "      <td>0.412084</td>\n",
       "      <td>0.587916</td>\n",
       "    </tr>\n",
       "    <tr>\n",
       "      <td>生存期</td>\n",
       "      <td>0.484718</td>\n",
       "      <td>0.515282</td>\n",
       "    </tr>\n",
       "    <tr>\n",
       "      <td>主要</td>\n",
       "      <td>0.498325</td>\n",
       "      <td>0.501675</td>\n",
       "    </tr>\n",
       "    <tr>\n",
       "      <td>治疗</td>\n",
       "      <td>0.584649</td>\n",
       "      <td>0.415351</td>\n",
       "    </tr>\n",
       "    <tr>\n",
       "      <td>效果</td>\n",
       "      <td>0.397391</td>\n",
       "      <td>0.602609</td>\n",
       "    </tr>\n",
       "  </tbody>\n",
       "</table>\n",
       "</div>"
      ],
      "text/plain": [
       "            Y         N\n",
       "肿瘤   0.412084  0.587916\n",
       "生存期  0.484718  0.515282\n",
       "主要   0.498325  0.501675\n",
       "治疗   0.584649  0.415351\n",
       "效果   0.397391  0.602609"
      ]
     },
     "execution_count": 8,
     "metadata": {},
     "output_type": "execute_result"
    }
   ],
   "source": [
    "cnt_df = pd.DataFrame(norm, index=['Y', 'N']).T\n",
    "cnt_df.head()"
   ]
  },
  {
   "cell_type": "code",
   "execution_count": 9,
   "metadata": {},
   "outputs": [],
   "source": [
    "n = 330\n",
    "\n",
    "# 分别获取正反类中排序前n的词\n",
    "Ywords = cnt_df['Y'].sort_values(ascending=False).head(n).index\n",
    "Nwords = cnt_df['N'].sort_values(ascending=False).head(n).index"
   ]
  },
  {
   "cell_type": "markdown",
   "metadata": {},
   "source": [
    "步骤5：合并上一步抽取的所有类别文本的高频特征词，形成高频特征词集合wordset"
   ]
  },
  {
   "cell_type": "code",
   "execution_count": 10,
   "metadata": {},
   "outputs": [],
   "source": [
    "wordset = set(Ywords) | set(Nwords)\n",
    "\n",
    "with pd.ExcelWriter('../data/word_norm.xlsx') as writer:\n",
    "    cnt_df.to_excel(writer, sheet_name='Sheet1')\n",
    "    cnt_df.loc[wordset].to_excel(writer, sheet_name='基本特征词')"
   ]
  },
  {
   "cell_type": "markdown",
   "metadata": {},
   "source": [
    "步骤7：计算TF-IDF"
   ]
  },
  {
   "cell_type": "code",
   "execution_count": 11,
   "metadata": {},
   "outputs": [],
   "source": [
    "from sklearn.feature_extraction.text import TfidfVectorizer\n",
    "\n",
    "# 构建词汇索引表，key为词，value为索引\n",
    "vocabulary = dict(zip(wordset, [i for i in range(len(wordset))]))"
   ]
  },
  {
   "cell_type": "code",
   "execution_count": 12,
   "metadata": {},
   "outputs": [],
   "source": [
    "# 将对话中的'/'替换为' '\n",
    "corpus = df['对话内容'].apply(lambda sent: str(sent).replace('/', ' '))\n",
    "tfidfvector = TfidfVectorizer(vocabulary=vocabulary)\n",
    "X = tfidfvector.fit_transform(corpus)"
   ]
  },
  {
   "cell_type": "code",
   "execution_count": 13,
   "metadata": {},
   "outputs": [
    {
     "data": {
      "text/plain": [
       "(74888, 660)"
      ]
     },
     "execution_count": 13,
     "metadata": {},
     "output_type": "execute_result"
    }
   ],
   "source": [
    "X.shape"
   ]
  },
  {
   "cell_type": "code",
   "execution_count": 14,
   "metadata": {},
   "outputs": [],
   "source": [
    "# 构建列索引\n",
    "columns = [x[0] for x in sorted(vocabulary.items(), key=lambda d:d[1])]\n",
    "# 基本特征\n",
    "df_base = pd.DataFrame(X.toarray(), columns=columns)"
   ]
  },
  {
   "cell_type": "code",
   "execution_count": 15,
   "metadata": {},
   "outputs": [],
   "source": [
    "df_base.to_csv('../data/tfidf.csv')"
   ]
  },
  {
   "cell_type": "markdown",
   "metadata": {},
   "source": [
    "### 4.1.2 扩展特征（归一化）\n",
    "步骤1~5"
   ]
  },
  {
   "cell_type": "code",
   "execution_count": 20,
   "metadata": {},
   "outputs": [],
   "source": [
    "import itertools\n",
    "\n",
    "# 关联规则的集合，规则tuple为key，value是数量\n",
    "rule_dict = Counter()\n",
    "\n",
    "for sent in df['对话内容']:\n",
    "    seg = set(str(sent).split('/'))\n",
    "    exdset = seg - wordset\n",
    "    baseset = seg - exdset\n",
    "    rule_dict += Counter(itertools.product(baseset, exdset))"
   ]
  },
  {
   "cell_type": "code",
   "execution_count": 26,
   "metadata": {},
   "outputs": [],
   "source": [
    "# 计算置信度保存到value中\n",
    "for rule in rule_dict:\n",
    "    # 规则tuple中的第一个词是base，第二个词是extend\n",
    "    rule_dict[rule] /= sum_counter_filter[rule[0]]\n",
    "\n",
    "df_rule = pd.DataFrame.from_dict(rule_dict, orient='index')\n",
    "df_rule.to_excel('../data/base_rule.xlsx')"
   ]
  },
  {
   "cell_type": "markdown",
   "metadata": {},
   "source": [
    "步骤6~7"
   ]
  },
  {
   "cell_type": "code",
   "execution_count": 15,
   "metadata": {},
   "outputs": [],
   "source": [
    "from scipy import sparse\n",
    "\n",
    "def calc_exd_V(data, base_matrix, base_word2id, rule_dict, conf):\n",
    "    \"\"\"\n",
    "    data: series格式数据\n",
    "    base_matrix: 基本特征矩阵\n",
    "    base_word2id: 基本特征单词索引表\n",
    "    rule_dict: 存储置信度的规则表\n",
    "    conf: 置信度阈值，低于阈值的不予考虑\n",
    "    \n",
    "    return：\n",
    "        exd_word2id: 扩展特征单词索引表\n",
    "        exd_matrix: 扩展特征矩阵\n",
    "    \"\"\"\n",
    "    \n",
    "    # 根据置信度阈值筛选规则\n",
    "    rule_dict = {k: v for k, v in rule_dict.items() if v >= conf}\n",
    "    exd_word2id = dict(zip({k[1] for k in rule_dict}, [i for i in range(len(rule_dict))]))\n",
    "    # 创建扩展特征稀疏矩阵\n",
    "    exd_matrix = sparse.lil_matrix((len(data), len(exd_word2id)))\n",
    "    \n",
    "    for row_idx in range(len(data)):\n",
    "        for word in set(str(data[row_idx]).split('/')):\n",
    "            if word in base_word2id:\n",
    "                for rule in rule_dict:\n",
    "                    if word == rule[0]:\n",
    "                        # 从tfidf矩阵获取权重\n",
    "                        w = base_matrix[row_idx, base_word2id[word]]\n",
    "                        # 扩展特征权重=基本特征权重*置信度\n",
    "                        exd_matrix[row_idx, exd_word2id[rule[1]]] += w * rule_dict[rule]\n",
    "    \n",
    "    return exd_word2id, exd_matrix"
   ]
  },
  {
   "cell_type": "markdown",
   "metadata": {},
   "source": [
    "### 4.1.3 融合基本特征和扩展特征的词汇特征"
   ]
  },
  {
   "cell_type": "code",
   "execution_count": 19,
   "metadata": {},
   "outputs": [],
   "source": [
    "from sklearn import preprocessing\n",
    "\n",
    "# 基本特征\n",
    "df_base = pd.DataFrame(X.toarray())\n",
    "\n",
    "for conf in [0.5, 0.6, 0.7, 0.8, 0.9]:\n",
    "    exd_word2id, exd_matrix = calc_exd_V(df['对话内容'], X, vocabulary, rule_dict, conf)\n",
    "    df_exd = pd.DataFrame(exd_matrix.toarray())\n",
    "\n",
    "    # 拼接基本特征和扩展特征\n",
    "    df_all = pd.concat([df_base, df_exd], axis=1)\n",
    "    # 构建列索引\n",
    "    columns = [x[0] for x in sorted(vocabulary.items(), key=lambda d:d[1])] + [x[0] for x in sorted(exd_word2id.items(), key=lambda d:d[1])]\n",
    "    # 归一化\n",
    "    scaler = preprocessing.MinMaxScaler()\n",
    "    df_all = pd.DataFrame(scaler.fit_transform(df_all), columns=columns)\n",
    "    \n",
    "    df_all.to_csv('../data/词汇特征%s%%.csv' % (conf * 100))"
   ]
  },
  {
   "cell_type": "code",
   "execution_count": null,
   "metadata": {},
   "outputs": [],
   "source": []
  }
 ],
 "metadata": {
  "kernelspec": {
   "display_name": "Python 3",
   "language": "python",
   "name": "python3"
  },
  "language_info": {
   "codemirror_mode": {
    "name": "ipython",
    "version": 3
   },
   "file_extension": ".py",
   "mimetype": "text/x-python",
   "name": "python",
   "nbconvert_exporter": "python",
   "pygments_lexer": "ipython3",
   "version": "3.7.4"
  }
 },
 "nbformat": 4,
 "nbformat_minor": 2
}
