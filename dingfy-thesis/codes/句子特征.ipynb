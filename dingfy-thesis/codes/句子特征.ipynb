{
 "cells": [
  {
   "cell_type": "markdown",
   "metadata": {},
   "source": [
    "## 4.2 句子特征（全部文本）"
   ]
  },
  {
   "cell_type": "code",
   "execution_count": 43,
   "metadata": {},
   "outputs": [],
   "source": [
    "import pandas as pd \n",
    "\n",
    "df_data = pd.read_excel('../data/最终版标注数据0110.xlsx', sheet_name='正反一起')"
   ]
  },
  {
   "cell_type": "code",
   "execution_count": 44,
   "metadata": {},
   "outputs": [],
   "source": [
    "# 存放句子特征\n",
    "matrix = list()\n",
    "\n",
    "with open('../连字符版医学术语_v1.2.txt') as f:\n",
    "    medword = f.readlines()\n",
    "medword = {word.strip() for word in medword}\n",
    "\n",
    "for sent in df_data['对话内容']:\n",
    "    wordcnt, ncnt, vcnt, acnt, mcnt = 0, 0, 0, 0, 0\n",
    "    words = pseg.cut(str(sent))\n",
    "    for word, flag in words:\n",
    "        # 虚词\n",
    "        if flag.startswith('x'):\n",
    "            continue\n",
    "        if word in medword:\n",
    "            mcnt += 1\n",
    "        if flag.startswith('n'):\n",
    "            ncnt += 1\n",
    "        elif flag.startswith('v'):\n",
    "            vcnt += 1 \n",
    "        elif flag.startswith('a'):\n",
    "            acnt += 1\n",
    "        else:\n",
    "            pass\n",
    "        wordcnt += 1\n",
    "    # 避免除0错误\n",
    "    if wordcnt == 0:\n",
    "        matrix.append([wordcnt, ncnt, vcnt, acnt, mcnt])\n",
    "    else:\n",
    "        matrix.append([wordcnt, ncnt/wordcnt, vcnt/wordcnt, acnt/wordcnt, mcnt/wordcnt])"
   ]
  },
  {
   "cell_type": "code",
   "execution_count": 45,
   "metadata": {},
   "outputs": [],
   "source": [
    "import numpy as np\n",
    "\n",
    "df = pd.DataFrame(matrix, columns=['num_norm', 'n', 'v', 'a', 'm'])\n",
    "df['num_norm'] = df[['num_norm']].apply(lambda x: (x-np.min(x))/(np.max(x)-np.min(x)))"
   ]
  },
  {
   "cell_type": "code",
   "execution_count": 46,
   "metadata": {},
   "outputs": [],
   "source": [
    "df.to_excel('../data/句子特征.xlsx')"
   ]
  },
  {
   "cell_type": "code",
   "execution_count": null,
   "metadata": {},
   "outputs": [],
   "source": []
  }
 ],
 "metadata": {
  "kernelspec": {
   "display_name": "Python 3",
   "language": "python",
   "name": "python3"
  },
  "language_info": {
   "codemirror_mode": {
    "name": "ipython",
    "version": 3
   },
   "file_extension": ".py",
   "mimetype": "text/x-python",
   "name": "python",
   "nbconvert_exporter": "python",
   "pygments_lexer": "ipython3",
   "version": "3.7.1"
  }
 },
 "nbformat": 4,
 "nbformat_minor": 2
}
